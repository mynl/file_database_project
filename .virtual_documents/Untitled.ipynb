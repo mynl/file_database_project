


from gstarter import * 


import file_database.manager as fdm
import file_database.disk_info as info
from file_database import DEFAULT_CONFIG_FILE, ProjectManager


# all projects
ProjectManager.list_deets()


pm = fdm.ProjectManager('Library')
pm


pm.config_df


pm.hostname, pm.included_dirs, pm.last_indexed, pm.database_path.resolve(), pm


pm.last_excluded_df()


pm.database


pm.database.loc[6127].dir.casefold()


pm.database.columns


books = fdm.ProjectManager('Books')
books


books.config_df


books.index()


books.database


from rustfuzz import FuzzyMatcherMulti, FieldAwareFuzzy2


df = pm.database


df.shape


bit = df['path'].to_list()
bit[-3:]


bit = df.dir + ' ' + df['name'].str.replace('_', ' ')


bit[:3]


m = FuzzyMatcherMulti(bit.to_list())


idx, sc = m.query('Wang spectral', 20)


df.loc[idx]


df.head()


d = ProjectManager('default')


d.index()


d.config_df



