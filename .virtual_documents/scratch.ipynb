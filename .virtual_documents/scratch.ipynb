


import pandas as pd
import numpy as np
import re
from pathlib import Path 
import file_database as fd
import file_database.manager as fdm
import file_database.disk_info as info
from file_database import DEFAULT_CONFIG_FILE

from file_database.cli import fGT

# from greater_tables import GT
# from functools import partial
# fGT = partial(GT, show_index=False, large_ok=False, formatters={'node': lambda x: str(x)})
%load_ext autotime





p  = Path('.').resolve()
p,p.anchor[:-1]


disks = info.DriveInfo()
disks.data.T


disks.drive_letter_id('F:')





# all projects
ProjectManager.list_deets()


DEFAULT_CONFIG_FILE


# pm = fdm.ProjectManager(DEFAULT_CONFIG_FILE)
# pm = fdm.ProjectManager('test')
pm = fdm.ProjectManager('Library')
pm


pm.config_df


pm.hostname, pm.included_dirs, pm.last_indexed, pm.database_path.resolve(), pm


pm.index(None)


# what was omitted from last run 
pm.last_excluded_df()


fGT(pm.query('recent top 20'))


# query dir is not starting docs
pm = ProjectManager('Library')
fGT(pm.query('duplicates top 20 select -suffix dir ~ ^(?!docs).* sort hash'), caption=pm._last_query_title, tabs=[1, 30, 40, 12, 10])


# pm.reset()
# pm.save()








pm.schedule()








pm = fdm.ProjectManager('Library')
df = pm.database


f, s = pm.query('verbose recent top 25 where mod.dt.day == 15 sort mod')
fGT(f, caption=f'{len(f)} out of {s} values')


f, s = pm.query('verbose top 5 select node, hash ! pdf$ sort node')
fGT(f, caption=f'{len(f)} out of {s} values')


f, s = pm.query('recent top 25 ! ^(?!.*[aie]+).*')
fGT(f, caption=f'{len(f)} out of {s} values')


f, s = pm.query('recent top 25 name ~ ^(?!.*[aie]+).*')
fGT(f, caption=f'{len(f)} out of {s} values')


f, s = pm.query('top 20 order by suffix, -mod')
fGT(f)


f, s = pm.query('recent top 10')
fGT(f)





pm.find_hardlinks()





df = pm.find_duplicates()
df['hash'] = df['hash'].str[:10]
fGT(df.head(10)[['name', 'dir', 'node', 'size', 'hash']], large_ok=True)








pm = fdm.ProjectManager('g:\\sams64gb.fdb-config')
pm.reset()


GT(pm.config_df)


pm.index('update')


pm.database


fGT(pm.duplicates().head(10))


df = pm.duplicates('first')
dfl = pm.duplicates('last')


len(df), len(dfl)





df['size'].sum(), dfl['size'].sum() /  1e6


pm.hardlinks()





import file_database.manager as fdm


pm = fdm.ProjectManager('default')
# pm.reset()


pm.config_df


pm.index(verbose=True)


f = pm.duplicates()
len(f)


d, s = pm.query('hardlinks select node order by node')
idx = d.groupby('node')[['size']].count().sort_values('size')[-10:-5].index
d.query('node in @idx')


d, s = pm.query('duplicates select node, hash order by hash, node')
d.head()


dups = d.duplicated('node', keep=False)
d['dup'] = 0
d.loc[dups, 'dup'] = 1
d


int('2a', 16)


h = d.iloc[0, -2]
int(h, 16)


qq('recent top 50', max_str_length=40, default_date_str='%a %H:%M')


p.stat?








from file_database.parser import parse_test, grammar


parse_test("verbose hardlinks recent top 10 select *, -a, -b where mod < 2025-11 order c, -d", show_tokens=False)


parse_test('''recent  verbose top 10  name  ~ py and path ~ ([a-m]).*\\1\\1 where mod == 2024-12 and created > 12-12 and other == "py" and name <= abc hardlinks order name, -mod  ''', 
     debug=False, show_tokens=False)


parse_test('''recent  verbose top 10  ! py  where mod == 2024-12 and created > 12-12 and other == "py" and name <= abc hardlinks order name, -mod  ''', 
     debug=False, show_tokens=False)


test_cases = [
    '',
    'recent',    
    'recent top 10',    
    'recent top 10 ! py',    
    'verbose top 5  name ~ py select *, -hash sort node, -b',
    'recent  verbose top 10  ! py  where mod == 2024-12 and created > 12-12 and other == "py" and name <= abc hardlinks order name, -mod ',
    'verbose top 5 select node, hash name ~ *.pdf sort node',
    'verbose recent top 25 where mod.dt.day == 15 sort mod',
    'verbose top 5 select node, hash ! py$ sort node',
    'recent top 5 name ~ ^(?!.*[ae]+).*'  # names without a or e

]


for i, t in enumerate(test_cases):
    print(f'TEST {i}: "{t}"')
    parse_test(t, show_tokens=True)
    print('-'*80)








print(grammar())





import click
import file_database.cli as cli
from file_database import BASE_DIR


cli.create_config.main(['test'], standalone_mode=False)
