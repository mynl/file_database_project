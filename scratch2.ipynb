{
 "cells": [
  {
   "cell_type": "markdown",
   "id": "6dc8a7ed-0966-403b-910c-ef1eb7896e93",
   "metadata": {},
   "source": [
    "# `file_database_project`\n",
    "\n",
    "Back to FDB project after a long break. Building SPA. Implement overnight update.\n",
    "\n",
    "## To Do List (from readme)\n",
    "\n",
    "* Util to create a blank config file (maybe with prompts)\n",
    "* Incremental updates check for deletes and if the file is logged (changed spec), use set and set diff and `df = df[~df[\"col\"].isin(seen)]`\n",
    "* Create job and python path\n",
    "* query > file work\n",
    "* add duplicates and hardlinks key works\n",
    "* parse queries in order independent manner \n",
    "* GT should have a repr_text version! \n",
    "* directory sizes?! \n",
    "* recent directories (recent changes to dirs)\n",
    "\n",
    "\n",
    "## Provenance\n",
    "* Created new 2025-08-20"
   ]
  },
  {
   "cell_type": "code",
   "execution_count": 1,
   "id": "b5db46d0-0647-4c2d-81df-da2c68dc8a7c",
   "metadata": {},
   "outputs": [
    {
     "name": "stderr",
     "output_type": "stream",
     "text": [
      "11:02:41|INFO  |gstarter.__main__[__main__.py:53 <module>] gstarter.__main__ logging setup\n",
      "11:02:42|INFO  |gstarter.__main__[__main__.py:424 <module>] Standard steve magics and imports loaded.\n"
     ]
    },
    {
     "ename": "PatternError",
     "evalue": "Invalid regex for token DATETIME",
     "output_type": "error",
     "traceback": [
      "\u001b[31m---------------------------------------------------------------------------\u001b[39m",
      "\u001b[31mPatternError\u001b[39m                              Traceback (most recent call last)",
      "\u001b[36mFile \u001b[39m\u001b[32m~\\Documents\\CloudStation\\TELOS\\Python\\aggregate_project\\aggregate\\sly\\lex.py:311\u001b[39m, in \u001b[36mLexer._build\u001b[39m\u001b[34m(cls)\u001b[39m\n\u001b[32m    310\u001b[39m \u001b[38;5;28;01mtry\u001b[39;00m:\n\u001b[32m--> \u001b[39m\u001b[32m311\u001b[39m     cpat = \u001b[38;5;28;43mcls\u001b[39;49m\u001b[43m.\u001b[49m\u001b[43mregex_module\u001b[49m\u001b[43m.\u001b[49m\u001b[43mcompile\u001b[49m\u001b[43m(\u001b[49m\u001b[43mpart\u001b[49m\u001b[43m,\u001b[49m\u001b[43m \u001b[49m\u001b[38;5;28;43mcls\u001b[39;49m\u001b[43m.\u001b[49m\u001b[43mreflags\u001b[49m\u001b[43m)\u001b[49m\n\u001b[32m    312\u001b[39m \u001b[38;5;28;01mexcept\u001b[39;00m \u001b[38;5;167;01mException\u001b[39;00m \u001b[38;5;28;01mas\u001b[39;00m e:\n",
      "\u001b[36mFile \u001b[39m\u001b[32m~\\miniconda3\\envs\\working313\\Lib\\re\\__init__.py:289\u001b[39m, in \u001b[36mcompile\u001b[39m\u001b[34m(pattern, flags)\u001b[39m\n\u001b[32m    288\u001b[39m \u001b[33m\"\u001b[39m\u001b[33mCompile a regular expression pattern, returning a Pattern object.\u001b[39m\u001b[33m\"\u001b[39m\n\u001b[32m--> \u001b[39m\u001b[32m289\u001b[39m \u001b[38;5;28;01mreturn\u001b[39;00m \u001b[43m_compile\u001b[49m\u001b[43m(\u001b[49m\u001b[43mpattern\u001b[49m\u001b[43m,\u001b[49m\u001b[43m \u001b[49m\u001b[43mflags\u001b[49m\u001b[43m)\u001b[49m\n",
      "\u001b[36mFile \u001b[39m\u001b[32m~\\miniconda3\\envs\\working313\\Lib\\re\\__init__.py:350\u001b[39m, in \u001b[36m_compile\u001b[39m\u001b[34m(pattern, flags)\u001b[39m\n\u001b[32m    349\u001b[39m     \u001b[38;5;28;01mraise\u001b[39;00m \u001b[38;5;167;01mTypeError\u001b[39;00m(\u001b[33m\"\u001b[39m\u001b[33mfirst argument must be string or compiled pattern\u001b[39m\u001b[33m\"\u001b[39m)\n\u001b[32m--> \u001b[39m\u001b[32m350\u001b[39m p = \u001b[43m_compiler\u001b[49m\u001b[43m.\u001b[49m\u001b[43mcompile\u001b[49m\u001b[43m(\u001b[49m\u001b[43mpattern\u001b[49m\u001b[43m,\u001b[49m\u001b[43m \u001b[49m\u001b[43mflags\u001b[49m\u001b[43m)\u001b[49m\n\u001b[32m    351\u001b[39m \u001b[38;5;28;01mif\u001b[39;00m flags & DEBUG:\n",
      "\u001b[36mFile \u001b[39m\u001b[32m~\\miniconda3\\envs\\working313\\Lib\\re\\_compiler.py:748\u001b[39m, in \u001b[36mcompile\u001b[39m\u001b[34m(p, flags)\u001b[39m\n\u001b[32m    747\u001b[39m     pattern = p\n\u001b[32m--> \u001b[39m\u001b[32m748\u001b[39m     p = \u001b[43m_parser\u001b[49m\u001b[43m.\u001b[49m\u001b[43mparse\u001b[49m\u001b[43m(\u001b[49m\u001b[43mp\u001b[49m\u001b[43m,\u001b[49m\u001b[43m \u001b[49m\u001b[43mflags\u001b[49m\u001b[43m)\u001b[49m\n\u001b[32m    749\u001b[39m \u001b[38;5;28;01melse\u001b[39;00m:\n",
      "\u001b[36mFile \u001b[39m\u001b[32m~\\miniconda3\\envs\\working313\\Lib\\re\\_parser.py:980\u001b[39m, in \u001b[36mparse\u001b[39m\u001b[34m(str, flags, state)\u001b[39m\n\u001b[32m    978\u001b[39m state.str = \u001b[38;5;28mstr\u001b[39m\n\u001b[32m--> \u001b[39m\u001b[32m980\u001b[39m p = \u001b[43m_parse_sub\u001b[49m\u001b[43m(\u001b[49m\u001b[43msource\u001b[49m\u001b[43m,\u001b[49m\u001b[43m \u001b[49m\u001b[43mstate\u001b[49m\u001b[43m,\u001b[49m\u001b[43m \u001b[49m\u001b[43mflags\u001b[49m\u001b[43m \u001b[49m\u001b[43m&\u001b[49m\u001b[43m \u001b[49m\u001b[43mSRE_FLAG_VERBOSE\u001b[49m\u001b[43m,\u001b[49m\u001b[43m \u001b[49m\u001b[32;43m0\u001b[39;49m\u001b[43m)\u001b[49m\n\u001b[32m    981\u001b[39m p.state.flags = fix_flags(\u001b[38;5;28mstr\u001b[39m, p.state.flags)\n",
      "\u001b[36mFile \u001b[39m\u001b[32m~\\miniconda3\\envs\\working313\\Lib\\re\\_parser.py:459\u001b[39m, in \u001b[36m_parse_sub\u001b[39m\u001b[34m(source, state, verbose, nested)\u001b[39m\n\u001b[32m    458\u001b[39m \u001b[38;5;28;01mwhile\u001b[39;00m \u001b[38;5;28;01mTrue\u001b[39;00m:\n\u001b[32m--> \u001b[39m\u001b[32m459\u001b[39m     itemsappend(\u001b[43m_parse\u001b[49m\u001b[43m(\u001b[49m\u001b[43msource\u001b[49m\u001b[43m,\u001b[49m\u001b[43m \u001b[49m\u001b[43mstate\u001b[49m\u001b[43m,\u001b[49m\u001b[43m \u001b[49m\u001b[43mverbose\u001b[49m\u001b[43m,\u001b[49m\u001b[43m \u001b[49m\u001b[43mnested\u001b[49m\u001b[43m \u001b[49m\u001b[43m+\u001b[49m\u001b[43m \u001b[49m\u001b[32;43m1\u001b[39;49m\u001b[43m,\u001b[49m\n\u001b[32m    460\u001b[39m \u001b[43m                       \u001b[49m\u001b[38;5;129;43;01mnot\u001b[39;49;00m\u001b[43m \u001b[49m\u001b[43mnested\u001b[49m\u001b[43m \u001b[49m\u001b[38;5;129;43;01mand\u001b[39;49;00m\u001b[43m \u001b[49m\u001b[38;5;129;43;01mnot\u001b[39;49;00m\u001b[43m \u001b[49m\u001b[43mitems\u001b[49m\u001b[43m)\u001b[49m)\n\u001b[32m    461\u001b[39m     \u001b[38;5;28;01mif\u001b[39;00m \u001b[38;5;129;01mnot\u001b[39;00m sourcematch(\u001b[33m\"\u001b[39m\u001b[33m|\u001b[39m\u001b[33m\"\u001b[39m):\n",
      "\u001b[36mFile \u001b[39m\u001b[32m~\\miniconda3\\envs\\working313\\Lib\\re\\_parser.py:863\u001b[39m, in \u001b[36m_parse\u001b[39m\u001b[34m(source, state, verbose, nested, first)\u001b[39m\n\u001b[32m    861\u001b[39m sub_verbose = ((verbose \u001b[38;5;129;01mor\u001b[39;00m (add_flags & SRE_FLAG_VERBOSE)) \u001b[38;5;129;01mand\u001b[39;00m\n\u001b[32m    862\u001b[39m                \u001b[38;5;129;01mnot\u001b[39;00m (del_flags & SRE_FLAG_VERBOSE))\n\u001b[32m--> \u001b[39m\u001b[32m863\u001b[39m p = \u001b[43m_parse_sub\u001b[49m\u001b[43m(\u001b[49m\u001b[43msource\u001b[49m\u001b[43m,\u001b[49m\u001b[43m \u001b[49m\u001b[43mstate\u001b[49m\u001b[43m,\u001b[49m\u001b[43m \u001b[49m\u001b[43msub_verbose\u001b[49m\u001b[43m,\u001b[49m\u001b[43m \u001b[49m\u001b[43mnested\u001b[49m\u001b[43m \u001b[49m\u001b[43m+\u001b[49m\u001b[43m \u001b[49m\u001b[32;43m1\u001b[39;49m\u001b[43m)\u001b[49m\n\u001b[32m    864\u001b[39m \u001b[38;5;28;01mif\u001b[39;00m \u001b[38;5;129;01mnot\u001b[39;00m source.match(\u001b[33m\"\u001b[39m\u001b[33m)\u001b[39m\u001b[33m\"\u001b[39m):\n",
      "\u001b[36mFile \u001b[39m\u001b[32m~\\miniconda3\\envs\\working313\\Lib\\re\\_parser.py:459\u001b[39m, in \u001b[36m_parse_sub\u001b[39m\u001b[34m(source, state, verbose, nested)\u001b[39m\n\u001b[32m    458\u001b[39m \u001b[38;5;28;01mwhile\u001b[39;00m \u001b[38;5;28;01mTrue\u001b[39;00m:\n\u001b[32m--> \u001b[39m\u001b[32m459\u001b[39m     itemsappend(\u001b[43m_parse\u001b[49m\u001b[43m(\u001b[49m\u001b[43msource\u001b[49m\u001b[43m,\u001b[49m\u001b[43m \u001b[49m\u001b[43mstate\u001b[49m\u001b[43m,\u001b[49m\u001b[43m \u001b[49m\u001b[43mverbose\u001b[49m\u001b[43m,\u001b[49m\u001b[43m \u001b[49m\u001b[43mnested\u001b[49m\u001b[43m \u001b[49m\u001b[43m+\u001b[49m\u001b[43m \u001b[49m\u001b[32;43m1\u001b[39;49m\u001b[43m,\u001b[49m\n\u001b[32m    460\u001b[39m \u001b[43m                       \u001b[49m\u001b[38;5;129;43;01mnot\u001b[39;49;00m\u001b[43m \u001b[49m\u001b[43mnested\u001b[49m\u001b[43m \u001b[49m\u001b[38;5;129;43;01mand\u001b[39;49;00m\u001b[43m \u001b[49m\u001b[38;5;129;43;01mnot\u001b[39;49;00m\u001b[43m \u001b[49m\u001b[43mitems\u001b[49m\u001b[43m)\u001b[49m)\n\u001b[32m    461\u001b[39m     \u001b[38;5;28;01mif\u001b[39;00m \u001b[38;5;129;01mnot\u001b[39;00m sourcematch(\u001b[33m\"\u001b[39m\u001b[33m|\u001b[39m\u001b[33m\"\u001b[39m):\n",
      "\u001b[36mFile \u001b[39m\u001b[32m~\\miniconda3\\envs\\working313\\Lib\\re\\_parser.py:841\u001b[39m, in \u001b[36m_parse\u001b[39m\u001b[34m(source, state, verbose, nested, first)\u001b[39m\n\u001b[32m    840\u001b[39m \u001b[38;5;28;01mif\u001b[39;00m \u001b[38;5;129;01mnot\u001b[39;00m first \u001b[38;5;129;01mor\u001b[39;00m subpattern:\n\u001b[32m--> \u001b[39m\u001b[32m841\u001b[39m     \u001b[38;5;28;01mraise\u001b[39;00m source.error(\u001b[33m'\u001b[39m\u001b[33mglobal flags not at the start \u001b[39m\u001b[33m'\u001b[39m\n\u001b[32m    842\u001b[39m                        \u001b[33m'\u001b[39m\u001b[33mof the expression\u001b[39m\u001b[33m'\u001b[39m,\n\u001b[32m    843\u001b[39m                        source.tell() - start)\n\u001b[32m    844\u001b[39m verbose = state.flags & SRE_FLAG_VERBOSE\n",
      "\u001b[31mPatternError\u001b[39m: global flags not at the start of the expression at position 14 (line 2, column 1)",
      "\nThe above exception was the direct cause of the following exception:\n",
      "\u001b[31mPatternError\u001b[39m                              Traceback (most recent call last)",
      "\u001b[36mCell\u001b[39m\u001b[36m \u001b[39m\u001b[32mIn[1]\u001b[39m\u001b[32m, line 3\u001b[39m\n\u001b[32m      1\u001b[39m \u001b[38;5;28;01mfrom\u001b[39;00m\u001b[38;5;250m \u001b[39m\u001b[34;01mgstarter\u001b[39;00m\u001b[38;5;250m \u001b[39m\u001b[38;5;28;01mimport\u001b[39;00m * \n\u001b[32m----> \u001b[39m\u001b[32m3\u001b[39m \u001b[38;5;28;01mimport\u001b[39;00m\u001b[38;5;250m \u001b[39m\u001b[34;01mfile_database\u001b[39;00m\u001b[38;5;250m \u001b[39m\u001b[38;5;28;01mas\u001b[39;00m\u001b[38;5;250m \u001b[39m\u001b[34;01mfd\u001b[39;00m\n\u001b[32m      4\u001b[39m \u001b[38;5;28;01mimport\u001b[39;00m\u001b[38;5;250m \u001b[39m\u001b[34;01mfile_database\u001b[39;00m\u001b[34;01m.\u001b[39;00m\u001b[34;01mmanager\u001b[39;00m\u001b[38;5;250m \u001b[39m\u001b[38;5;28;01mas\u001b[39;00m\u001b[38;5;250m \u001b[39m\u001b[34;01mfdm\u001b[39;00m\n\u001b[32m      5\u001b[39m \u001b[38;5;28;01mimport\u001b[39;00m\u001b[38;5;250m \u001b[39m\u001b[34;01mfile_database\u001b[39;00m\u001b[34;01m.\u001b[39;00m\u001b[34;01mdisk_info\u001b[39;00m\u001b[38;5;250m \u001b[39m\u001b[38;5;28;01mas\u001b[39;00m\u001b[38;5;250m \u001b[39m\u001b[34;01minfo\u001b[39;00m\n",
      "\u001b[36mFile \u001b[39m\u001b[32mC:\\S\\TELOS\\Python\\file_database_project\\file_database\\__init__.py:39\u001b[39m\n\u001b[32m     37\u001b[39m \u001b[38;5;66;03m# avoid circular import errors\u001b[39;00m\n\u001b[32m     38\u001b[39m \u001b[38;5;28;01mfrom\u001b[39;00m\u001b[38;5;250m \u001b[39m\u001b[34;01m.\u001b[39;00m __version__ \u001b[38;5;28;01mimport\u001b[39;00m\u001b[38;5;250m \u001b[39m\u001b[34;01m__version__\u001b[39;00m\n\u001b[32m---> \u001b[39m\u001b[32m39\u001b[39m \u001b[38;5;28;01mfrom\u001b[39;00m\u001b[38;5;250m \u001b[39m\u001b[34;01m.\u001b[39;00m manager \u001b[38;5;28;01mimport\u001b[39;00m\u001b[38;5;250m \u001b[39m\u001b[34;01mProjectManager\u001b[39;00m  \u001b[38;5;66;03m# noqa\u001b[39;00m\n",
      "\u001b[36mFile \u001b[39m\u001b[32mC:\\S\\TELOS\\Python\\file_database_project\\file_database\\manager.py:14\u001b[39m\n\u001b[32m     11\u001b[39m \u001b[38;5;28;01mimport\u001b[39;00m\u001b[38;5;250m \u001b[39m\u001b[34;01mpandas\u001b[39;00m\u001b[38;5;250m \u001b[39m\u001b[38;5;28;01mas\u001b[39;00m\u001b[38;5;250m \u001b[39m\u001b[34;01mpd\u001b[39;00m\n\u001b[32m     13\u001b[39m \u001b[38;5;28;01mfrom\u001b[39;00m\u001b[38;5;250m \u001b[39m\u001b[34;01m.\u001b[39;00m\u001b[38;5;250m \u001b[39m\u001b[38;5;28;01mimport\u001b[39;00m BASE_DIR\n\u001b[32m---> \u001b[39m\u001b[32m14\u001b[39m \u001b[38;5;28;01mfrom\u001b[39;00m\u001b[38;5;250m \u001b[39m\u001b[34;01m.\u001b[39;00m querier \u001b[38;5;28;01mimport\u001b[39;00m\u001b[38;5;250m \u001b[39m\u001b[34;01mquery_ex\u001b[39;00m,\u001b[38;5;250m \u001b[39m\u001b[34;01mquery_help\u001b[39;00m\u001b[38;5;250m \u001b[39m\u001b[38;5;28;01mas\u001b[39;00m\u001b[38;5;250m \u001b[39m\u001b[34;01mquery_help_work\u001b[39;00m\n\u001b[32m     15\u001b[39m \u001b[38;5;28;01mfrom\u001b[39;00m\u001b[38;5;250m \u001b[39m\u001b[34;01m.\u001b[39;00m disk_info \u001b[38;5;28;01mimport\u001b[39;00m\u001b[38;5;250m \u001b[39m\u001b[34;01mDriveInfo\u001b[39;00m\n\u001b[32m     16\u001b[39m \u001b[38;5;28;01mfrom\u001b[39;00m\u001b[38;5;250m \u001b[39m\u001b[34;01m.\u001b[39;00m hasher \u001b[38;5;28;01mimport\u001b[39;00m\u001b[38;5;250m \u001b[39m\u001b[34;01mhash_many\u001b[39;00m\n",
      "\u001b[36mFile \u001b[39m\u001b[32mC:\\S\\TELOS\\Python\\file_database_project\\file_database\\querier.py:7\u001b[39m\n\u001b[32m      3\u001b[39m \u001b[38;5;28;01mimport\u001b[39;00m\u001b[38;5;250m \u001b[39m\u001b[34;01mre\u001b[39;00m\n\u001b[32m      5\u001b[39m \u001b[38;5;28;01mimport\u001b[39;00m\u001b[38;5;250m \u001b[39m\u001b[34;01mpandas\u001b[39;00m\u001b[38;5;250m \u001b[39m\u001b[38;5;28;01mas\u001b[39;00m\u001b[38;5;250m \u001b[39m\u001b[34;01mpd\u001b[39;00m\n\u001b[32m----> \u001b[39m\u001b[32m7\u001b[39m \u001b[38;5;28;01mfrom\u001b[39;00m\u001b[38;5;250m \u001b[39m\u001b[34;01m.\u001b[39;00m parser \u001b[38;5;28;01mimport\u001b[39;00m\u001b[38;5;250m \u001b[39m\u001b[34;01mparser\u001b[39;00m,\u001b[38;5;250m \u001b[39m\u001b[34;01mFDBLexer\u001b[39;00m,\u001b[38;5;250m \u001b[39m\u001b[34;01mFDBParser\u001b[39;00m\n\u001b[32m     10\u001b[39m \u001b[38;5;28;01mdef\u001b[39;00m\u001b[38;5;250m \u001b[39m\u001b[34mquery_ex\u001b[39m(df: pd.DataFrame, expr: \u001b[38;5;28mstr\u001b[39m) -> pd.DataFrame:\n\u001b[32m     11\u001b[39m \u001b[38;5;250m    \u001b[39m\u001b[33;03m\"\"\"\u001b[39;00m\n\u001b[32m     12\u001b[39m \u001b[33;03m    Run extended query parser.\u001b[39;00m\n\u001b[32m     13\u001b[39m \n\u001b[32m   (...)\u001b[39m\u001b[32m     52\u001b[39m \n\u001b[32m     53\u001b[39m \u001b[33;03m    \"\"\"\u001b[39;00m\n",
      "\u001b[36mFile \u001b[39m\u001b[32mC:\\S\\TELOS\\Python\\file_database_project\\file_database\\parser.py:43\u001b[39m\n\u001b[32m     39\u001b[39m         \u001b[38;5;28mprint\u001b[39m(\u001b[33m'\u001b[39m\u001b[33mParsing Error:\u001b[39m\u001b[33m'\u001b[39m, e)\n\u001b[32m     40\u001b[39m     \u001b[38;5;28;01mreturn\u001b[39;00m result\n\u001b[32m---> \u001b[39m\u001b[32m43\u001b[39m \u001b[38;5;28;43;01mclass\u001b[39;49;00m\u001b[38;5;250;43m \u001b[39;49m\u001b[34;43;01mFDBLexer\u001b[39;49;00m\u001b[43m(\u001b[49m\u001b[43mLexer\u001b[49m\u001b[43m)\u001b[49m\u001b[43m:\u001b[49m\n\u001b[32m     44\u001b[39m \u001b[38;5;250;43m    \u001b[39;49m\u001b[33;43;03m\"\"\"Lexer for file database query language.\"\"\"\u001b[39;49;00m\n\u001b[32m     46\u001b[39m \u001b[43m    \u001b[49m\u001b[43mtokens\u001b[49m\u001b[43m \u001b[49m\u001b[43m=\u001b[49m\u001b[43m \u001b[49m\u001b[43m{\u001b[49m\n\u001b[32m     47\u001b[39m \u001b[43m        \u001b[49m\u001b[43mIDENTIFIER\u001b[49m\u001b[43m,\u001b[49m\u001b[43m \u001b[49m\u001b[43mNUMBER\u001b[49m\u001b[43m,\u001b[49m\u001b[43m \u001b[49m\u001b[43mQUOTED_STRING\u001b[49m\u001b[43m,\u001b[49m\u001b[43m \u001b[49m\u001b[43mREGEX_SLASHED\u001b[49m\u001b[43m,\u001b[49m\n\u001b[32m     48\u001b[39m \u001b[43m        \u001b[49m\u001b[43mDATETIME\u001b[49m\u001b[43m,\u001b[49m\u001b[43m \u001b[49m\u001b[43mSELECT\u001b[49m\u001b[43m,\u001b[49m\u001b[43m \u001b[49m\u001b[43mORDER_BY\u001b[49m\u001b[43m,\u001b[49m\u001b[43m \u001b[49m\u001b[43mWHERE\u001b[49m\u001b[43m,\u001b[49m\u001b[43m \u001b[49m\u001b[43mTOP\u001b[49m\u001b[43m,\u001b[49m\u001b[43m \u001b[49m\u001b[43mEQ_TEST\u001b[49m\u001b[43m,\u001b[49m\u001b[43m \u001b[49m\u001b[43mAND\u001b[49m\u001b[43m,\u001b[49m\n\u001b[32m     49\u001b[39m \u001b[43m        \u001b[49m\u001b[43mFLAG\u001b[49m\u001b[43m,\u001b[49m\u001b[43m \u001b[49m\u001b[43mSTAR\u001b[49m\u001b[43m,\u001b[49m\u001b[43m \u001b[49m\u001b[43mNOT\u001b[49m\u001b[43m,\u001b[49m\u001b[43m \u001b[49m\u001b[43mDATETIME\u001b[49m\u001b[43m,\u001b[49m\u001b[43m \u001b[49m\u001b[43mTILDE\u001b[49m\u001b[43m,\u001b[49m\u001b[43m \u001b[49m\u001b[43mBANG\u001b[49m\n\u001b[32m     50\u001b[39m \u001b[43m    \u001b[49m\u001b[43m}\u001b[49m\n",
      "\u001b[36mFile \u001b[39m\u001b[32m~\\Documents\\CloudStation\\TELOS\\Python\\aggregate_project\\aggregate\\sly\\lex.py:180\u001b[39m, in \u001b[36mLexerMeta.__new__\u001b[39m\u001b[34m(meta, clsname, bases, attributes)\u001b[39m\n\u001b[32m    178\u001b[39m \u001b[38;5;28mcls\u001b[39m._before = attributes.before\n\u001b[32m    179\u001b[39m \u001b[38;5;28mcls\u001b[39m._delete = attributes.delete\n\u001b[32m--> \u001b[39m\u001b[32m180\u001b[39m \u001b[38;5;28;43mcls\u001b[39;49m\u001b[43m.\u001b[49m\u001b[43m_build\u001b[49m\u001b[43m(\u001b[49m\u001b[43m)\u001b[49m\n\u001b[32m    181\u001b[39m \u001b[38;5;28;01mreturn\u001b[39;00m \u001b[38;5;28mcls\u001b[39m\n",
      "\u001b[36mFile \u001b[39m\u001b[32m~\\Documents\\CloudStation\\TELOS\\Python\\aggregate_project\\aggregate\\sly\\lex.py:313\u001b[39m, in \u001b[36mLexer._build\u001b[39m\u001b[34m(cls)\u001b[39m\n\u001b[32m    311\u001b[39m     cpat = \u001b[38;5;28mcls\u001b[39m.regex_module.compile(part, \u001b[38;5;28mcls\u001b[39m.reflags)\n\u001b[32m    312\u001b[39m \u001b[38;5;28;01mexcept\u001b[39;00m \u001b[38;5;167;01mException\u001b[39;00m \u001b[38;5;28;01mas\u001b[39;00m e:\n\u001b[32m--> \u001b[39m\u001b[32m313\u001b[39m     \u001b[38;5;28;01mraise\u001b[39;00m PatternError(\u001b[33mf\u001b[39m\u001b[33m'\u001b[39m\u001b[33mInvalid regex for token \u001b[39m\u001b[38;5;132;01m{\u001b[39;00mtokname\u001b[38;5;132;01m}\u001b[39;00m\u001b[33m'\u001b[39m) \u001b[38;5;28;01mfrom\u001b[39;00m\u001b[38;5;250m \u001b[39m\u001b[34;01me\u001b[39;00m\n\u001b[32m    315\u001b[39m \u001b[38;5;66;03m# Verify that the pattern doesn't match the empty string\u001b[39;00m\n\u001b[32m    316\u001b[39m \u001b[38;5;28;01mif\u001b[39;00m cpat.match(\u001b[33m'\u001b[39m\u001b[33m'\u001b[39m):\n",
      "\u001b[31mPatternError\u001b[39m: Invalid regex for token DATETIME"
     ]
    },
    {
     "name": "stdout",
     "output_type": "stream",
     "text": [
      "time: 5.22 s (started: 2025-08-20 11:02:41 +01:00)\n"
     ]
    }
   ],
   "source": [
    "from gstarter import * \n",
    "\n",
    "import file_database as fd\n",
    "import file_database.manager as fdm\n",
    "import file_database.disk_info as info\n",
    "from file_database import DEFAULT_CONFIG_FILE\n",
    "from file_database.cli import fGT"
   ]
  },
  {
   "cell_type": "code",
   "execution_count": null,
   "id": "ddb8f7a7-2667-46a2-a0dc-341e0651aa7c",
   "metadata": {},
   "outputs": [],
   "source": []
  }
 ],
 "metadata": {
  "kernelspec": {
   "display_name": "Python 3 (ipykernel)",
   "language": "python",
   "name": "python3"
  },
  "language_info": {
   "codemirror_mode": {
    "name": "ipython",
    "version": 3
   },
   "file_extension": ".py",
   "mimetype": "text/x-python",
   "name": "python",
   "nbconvert_exporter": "python",
   "pygments_lexer": "ipython3",
   "version": "3.13.3"
  }
 },
 "nbformat": 4,
 "nbformat_minor": 5
}
